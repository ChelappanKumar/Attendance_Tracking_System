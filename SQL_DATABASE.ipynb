{
 "cells": [
  {
   "cell_type": "code",
   "execution_count": 13,
   "metadata": {},
   "outputs": [],
   "source": [
    "import sqlite3\n",
    "\n",
    "# Connect to SQLite (you can replace this with your actual database connection)\n",
    "conn = sqlite3.connect('attendance.db')\n",
    "cursor = conn.cursor()\n",
    "\n",
    "# Create attendance table\n",
    "cursor.execute('''\n",
    "CREATE TABLE IF NOT EXISTS attendance (\n",
    "    admission_no INT PRIMARY KEY,\n",
    "    registration_no TEXT,\n",
    "    student_name TEXT,\n",
    "    attended_periods INT,\n",
    "    conducted_periods INT,\n",
    "    percentage FLOAT,\n",
    "    cumulative_attended INT,\n",
    "    cumulative_conducted INT,\n",
    "    cumulative_percentage FLOAT,\n",
    "    phone_number TEXT,\n",
    "    email TEXT\n",
    ")\n",
    "''')\n",
    "\n",
    "conn.commit()\n"
   ]
  },
  {
   "cell_type": "code",
   "execution_count": 14,
   "metadata": {},
   "outputs": [],
   "source": [
    "import pandas as pd\n",
    "import sqlite3\n",
    "\n",
    "# Load Excel data\n",
    "file_path = 'Attendance Camu.xlsx'\n",
    "df = pd.read_excel(file_path)\n",
    "\n",
    "# Connect to the SQLite database\n",
    "conn = sqlite3.connect('attendance.db')\n",
    "cursor = conn.cursor()\n",
    "\n",
    "# Iterate through the dataframe and insert each row into the database\n",
    "for index, row in df.iterrows():\n",
    "    cursor.execute('''\n",
    "    INSERT OR IGNORE INTO attendance (\n",
    "        admission_no, registration_no, student_name, attended_periods, conducted_periods, \n",
    "        percentage, cumulative_attended, cumulative_conducted, cumulative_percentage, \n",
    "        phone_number, email\n",
    "    ) VALUES (?, ?, ?, ?, ?, ?, ?, ?, ?, ?, ?)\n",
    "    ''', (\n",
    "        row['Admission No'], row['Registration No'], row['Student Name'], row['Attended Periods'],\n",
    "        row['Conducted Periods'], row['Percentage'], row['Cumulative Attended'],\n",
    "        row['Cumulative Conducted'], row['Percentage.6'], row['Phone_Number'], row['Email']\n",
    "    ))\n",
    "\n",
    "# Commit the transaction\n",
    "conn.commit()\n"
   ]
  }
 ],
 "metadata": {
  "kernelspec": {
   "display_name": "Python 3",
   "language": "python",
   "name": "python3"
  },
  "language_info": {
   "codemirror_mode": {
    "name": "ipython",
    "version": 3
   },
   "file_extension": ".py",
   "mimetype": "text/x-python",
   "name": "python",
   "nbconvert_exporter": "python",
   "pygments_lexer": "ipython3",
   "version": "3.12.5"
  }
 },
 "nbformat": 4,
 "nbformat_minor": 2
}
